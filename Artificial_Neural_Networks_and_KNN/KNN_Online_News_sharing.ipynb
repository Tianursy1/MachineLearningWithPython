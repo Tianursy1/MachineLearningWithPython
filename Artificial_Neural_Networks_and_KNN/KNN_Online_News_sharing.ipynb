{
 "cells": [
  {
   "cell_type": "markdown",
   "metadata": {},
   "source": [
    "# KNN Online News Sharing "
   ]
  },
  {
   "cell_type": "code",
   "execution_count": 1,
   "metadata": {
    "collapsed": false
   },
   "outputs": [],
   "source": [
    "import numpy as np\n",
    "import pandas as pd\n",
    "import matplotlib.pyplot as plt\n",
    "%matplotlib inline\n",
    "from sklearn.model_selection import train_test_split\n",
    "from sklearn.preprocessing import StandardScaler\n",
    "import warnings\n",
    "warnings.filterwarnings(\"ignore\")\n",
    "from sklearn.metrics import classification_report\n",
    "from sklearn.metrics import confusion_matrix\n",
    "from sklearn.neighbors import KNeighborsClassifier\n"
   ]
  },
  {
   "cell_type": "code",
   "execution_count": 2,
   "metadata": {
    "collapsed": true
   },
   "outputs": [],
   "source": [
    "df = pd.read_csv(\"OnlineNewsPopularity.csv\")\n",
    "median = df[' shares'].median()\n",
    "df[' shares'] = np.where(df[' shares']>=median, 1, 0)"
   ]
  },
  {
   "cell_type": "markdown",
   "metadata": {},
   "source": [
    "### Dropping features that are not required\n",
    "### Dropping features that may lead to \"Dummy variable trap\"\n"
   ]
  },
  {
   "cell_type": "code",
   "execution_count": 3,
   "metadata": {
    "collapsed": false
   },
   "outputs": [],
   "source": [
    "df.drop([\"url\",\" timedelta\"],axis =1,inplace=True)\n",
    "df.drop([\" weekday_is_sunday\",\" weekday_is_saturday\",\" LDA_04\"],axis =1,inplace=True)"
   ]
  },
  {
   "cell_type": "code",
   "execution_count": 4,
   "metadata": {
    "collapsed": false
   },
   "outputs": [],
   "source": [
    "cols = df.shape[1]\n",
    "\n",
    "features = df.iloc[:,:cols-1]\n",
    "response = df.iloc[:,cols-1:cols]\n",
    "\n",
    "X_train, X_test, y_train, y_test = train_test_split(features,response,test_size=0.3,random_state=0)\n",
    "X_train, X_val, y_train, y_val = train_test_split(X_train, y_train, test_size=0.3, random_state=0)\n",
    "\n",
    "# Feature Scaling\n",
    "from sklearn.preprocessing import StandardScaler\n",
    "sc = StandardScaler()\n",
    "X_train = sc.fit_transform(X_train)\n",
    "X_test = sc.transform(X_test)\n",
    "X_val = sc.transform(X_val)\n"
   ]
  },
  {
   "cell_type": "code",
   "execution_count": 5,
   "metadata": {
    "collapsed": false,
    "scrolled": false
   },
   "outputs": [
    {
     "name": "stdout",
     "output_type": "stream",
     "text": [
      "Train accuracy = 73.67%\n",
      "Test accuracy = 60.12%\n",
      "\n",
      " Confusion Matrix: \n",
      "\n",
      "[[3293 2292]\n",
      " [2451 3858]]\n",
      "\n",
      " Classification Report: \n",
      "\n",
      "             precision    recall  f1-score   support\n",
      "\n",
      "          0       0.57      0.59      0.58      5585\n",
      "          1       0.63      0.61      0.62      6309\n",
      "\n",
      "avg / total       0.60      0.60      0.60     11894\n",
      "\n"
     ]
    }
   ],
   "source": [
    "# Fitting K-NN to the Training set\n",
    "\n",
    "from sklearn.neighbors import KNeighborsClassifier\n",
    "classifier = KNeighborsClassifier(n_neighbors = 5, metric = 'minkowski', p = 2)\n",
    "classifier.fit(X_train, y_train)\n",
    "\n",
    "\n",
    "print('Train accuracy = {0}%'.format(np.round(classifier.score(X_train, y_train) * 100, 2)))\n",
    "print('Test accuracy = {0}%'.format(np.round(classifier.score(X_test, y_test) * 100, 2)))\n",
    "predictions = classifier.predict(X_test)\n",
    "print(\"\\n Confusion Matrix: \\n\")\n",
    "print(confusion_matrix(y_test.values, predictions))\n",
    "print(\"\\n Classification Report: \\n\")\n",
    "print(classification_report(y_test.values, predictions))"
   ]
  },
  {
   "cell_type": "markdown",
   "metadata": {},
   "source": [
    "# Experiment 1 \n",
    "\n",
    "## Number of neighbours in KNN"
   ]
  },
  {
   "cell_type": "code",
   "execution_count": 8,
   "metadata": {
    "collapsed": false
   },
   "outputs": [],
   "source": [
    "accuracy_validation = [None]*16\n",
    "\n",
    "\n",
    "\n",
    "count=0    \n",
    "for noOfNeighbours in range(151,0,-10):\n",
    "    # Fitting K-NN to the Training set\n",
    "    classifier = KNeighborsClassifier(n_neighbors = noOfNeighbours, metric = 'minkowski', p = 2)\n",
    "    classifier.fit(X_train, y_train)\n",
    "    accuracy_validation[count] = classifier.score(X_val,y_val)  \n",
    "    count+=1"
   ]
  },
  {
   "cell_type": "code",
   "execution_count": 9,
   "metadata": {
    "collapsed": false
   },
   "outputs": [
    {
     "data": {
      "text/plain": [
       "Text(0,0.5,'Accuracy on Validation Set')"
      ]
     },
     "execution_count": 9,
     "metadata": {},
     "output_type": "execute_result"
    },
    {
     "data": {
      "image/png": "[encoded data removed]",
      "text/plain": [
       "<matplotlib.figure.Figure at 0x119ddbe48>"
      ]
     },
     "metadata": {},
     "output_type": "display_data"
    }
   ],
   "source": [
    "plt.ylim([0,1])\n",
    "plt.plot(range(151,0,-10),accuracy_validation)\n",
    "plt.title(\"Accuracy vs Number of Nearest Neighbours\")\n",
    "plt.xlabel(\"Number of Neighbours\")\n",
    "plt.ylabel(\"Accuracy on Validation Set\")\n"
   ]
  },
  {
   "cell_type": "markdown",
   "metadata": {},
   "source": [
    "## As we see, No significant change in Accuracy as Number of Neighbours decrease\n",
    "\n",
    "## So we will keep the nearest Neighbors as max value = 150 , because lower the \n",
    "\n",
    "\n",
    "\n",
    "# Experiment 2 \n",
    "## Changing the different metrics for KNN Classifier"
   ]
  },
  {
   "cell_type": "code",
   "execution_count": 5,
   "metadata": {
    "collapsed": false
   },
   "outputs": [],
   "source": [
    "# Fitting K-NN to the Training set\n",
    "from sklearn.neighbors import KNeighborsClassifier\n",
    "metric = [\"euclidean\",\"manhattan\",\"hamming\"]\n",
    "accuracy_validation = [None]*3\n",
    "count=0\n",
    "for p in range(0,3):\n",
    "    classifier = KNeighborsClassifier(n_neighbors = 150, metric = metric[p])\n",
    "    classifier.fit(X_train, y_train)\n",
    "    accuracy_validation[count] = classifier.score(X_val,y_val)\n",
    "    count+=1"
   ]
  },
  {
   "cell_type": "code",
   "execution_count": 6,
   "metadata": {
    "collapsed": false
   },
   "outputs": [
    {
     "data": {
      "text/plain": [
       "Text(0,0.5,'Accuracy on Validation Set')"
      ]
     },
     "execution_count": 6,
     "metadata": {},
     "output_type": "execute_result"
    },
    {
     "data": {
      "image/png": "[encoded data removed]",
      "text/plain": [
       "<matplotlib.figure.Figure at 0x11c17eb38>"
      ]
     },
     "metadata": {},
     "output_type": "display_data"
    }
   ],
   "source": [
    "plt.ylim([0,1])\n",
    "plt.plot(metric,accuracy_validation)\n",
    "plt.title(\"Accuracy vs Metric function\")\n",
    "plt.xlabel(\"Metric function\")\n",
    "plt.ylabel(\"Accuracy on Validation Set\")"
   ]
  },
  {
   "cell_type": "markdown",
   "metadata": {},
   "source": [
    "## As we see, Euclidean has a better accuracy in this scenario\n",
    "## so we use Euclidean Metric in our K-NN Model"
   ]
  },
  {
   "cell_type": "markdown",
   "metadata": {},
   "source": [
    "# Cross Validation Scores\n"
   ]
  },
  {
   "cell_type": "code",
   "execution_count": 11,
   "metadata": {
    "collapsed": true
   },
   "outputs": [],
   "source": [
    "from sklearn.model_selection import cross_val_score"
   ]
  },
  {
   "cell_type": "code",
   "execution_count": 40,
   "metadata": {
    "collapsed": false
   },
   "outputs": [],
   "source": [
    "classifier = KNeighborsClassifier(n_neighbors = 150, metric ='minkowski',p=2)\n",
    "\n",
    "r, c = y_train.shape\n",
    "\n",
    "accuracies = cross_val_score(estimator=classifier,X=X_train,y=y_train.values.reshape(r,),cv=10)"
   ]
  },
  {
   "cell_type": "markdown",
   "metadata": {},
   "source": [
    "## 10 fold CV Accuracy Mean"
   ]
  },
  {
   "cell_type": "code",
   "execution_count": 44,
   "metadata": {
    "collapsed": false
   },
   "outputs": [
    {
     "data": {
      "text/plain": [
       "0.6463306599809442"
      ]
     },
     "execution_count": 44,
     "metadata": {},
     "output_type": "execute_result"
    }
   ],
   "source": [
    "accuracies.mean()"
   ]
  },
  {
   "cell_type": "markdown",
   "metadata": {},
   "source": [
    "## 10 fold CV Accuracy Standard Deviation\n"
   ]
  },
  {
   "cell_type": "code",
   "execution_count": 45,
   "metadata": {
    "collapsed": false
   },
   "outputs": [
    {
     "data": {
      "text/plain": [
       "0.013797096264431869"
      ]
     },
     "execution_count": 45,
     "metadata": {},
     "output_type": "execute_result"
    }
   ],
   "source": [
    "accuracies.std()"
   ]
  }
 ],
 "metadata": {
  "kernelspec": {
   "display_name": "Python 3",
   "language": "python",
   "name": "python3"
  },
  "language_info": {
   "codemirror_mode": {
    "name": "ipython",
    "version": 3
   },
   "file_extension": ".py",
   "mimetype": "text/x-python",
   "name": "python",
   "nbconvert_exporter": "python",
   "pygments_lexer": "ipython3",
   "version": "3.6.3"
  }
 },
 "nbformat": 4,
 "nbformat_minor": 2
}
