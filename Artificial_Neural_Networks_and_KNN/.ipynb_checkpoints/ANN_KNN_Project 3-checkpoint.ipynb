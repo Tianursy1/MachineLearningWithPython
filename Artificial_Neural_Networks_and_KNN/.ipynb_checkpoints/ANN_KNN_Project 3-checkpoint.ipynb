{
 "cells": [
  {
   "cell_type": "markdown",
   "metadata": {},
   "source": [
    "Your report should be both thorough and concise and contain at the very least the following:\n",
    "• Small description of the data sets and the classification problem.\n",
    "• Error rates (train and test) for the two algorithms on your two data sets. Plot various types of\n",
    "learning curves that you can think of (e.g. but not limited to – error rates vs. train data size,\n",
    "error rates vs. clock time to train/test, etc.).\n",
    "• Performance comparisons (learning curves, confusion matrices, etc.) of various\n",
    "functions/parameters for the algorithms (e.g. ANN number of layers, nodes, etc., number of\n",
    "neighbors in KNN, etc.) on both the data sets.\n",
    "• Comparisons of the two learning algorithms using the two data sets. \n",
    "• Does any of these algorithms perform better than the three algorithms used in assignment 2?\n",
    "What is your observation about how these 5 algorithms performed on the two data sets\n",
    "(ranking of algorithms for these data sets)?"
   ]
  },
  {
   "cell_type": "markdown",
   "metadata": {},
   "source": [
    "In this assignment, you will be using the following two learning algorithms:\n",
    "1. Artificial neural networks (ANN)\n",
    "2. K Nearest Neighbors\n",
    "You must use R or Python for this assignment. \n",
    "\n",
    "You can use any publicly available R or Python\n",
    "library/package. You can even use H2O.\n",
    "For the following tasks, use the same two datasets that you used in assignment 2 (online news and the\n",
    "one you picked).\n",
    "Tasks:\n",
    "1. Download and use any neural networks package to classify your classification problems.\n",
    "Experiment with number of layers and number of nodes, activation functions (sigmoid, tanh,\n",
    "etc.), and may be a couple of other parameters.\n",
    "2. Download and use any KNN package to classify your classification problems. Experiment with\n",
    "number of neighbors. You can use any distance metric appropriate to your problem. Just be\n",
    "clear to explain why you used the metric that you used. "
   ]
  },
  {
   "cell_type": "code",
   "execution_count": null,
   "metadata": {
    "collapsed": true
   },
   "outputs": [],
   "source": [
    "# TeP"
   ]
  }
 ],
 "metadata": {
  "kernelspec": {
   "display_name": "Python 3",
   "language": "python",
   "name": "python3"
  },
  "language_info": {
   "codemirror_mode": {
    "name": "ipython",
    "version": 3
   },
   "file_extension": ".py",
   "mimetype": "text/x-python",
   "name": "python",
   "nbconvert_exporter": "python",
   "pygments_lexer": "ipython3",
   "version": "3.6.3"
  }
 },
 "nbformat": 4,
 "nbformat_minor": 2
}
